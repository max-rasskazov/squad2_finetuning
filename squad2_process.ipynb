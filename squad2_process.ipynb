{
 "cells": [
  {
   "cell_type": "code",
   "execution_count": 1,
   "metadata": {
    "colab": {
     "base_uri": "https://localhost:8080/"
    },
    "executionInfo": {
     "elapsed": 37603,
     "status": "ok",
     "timestamp": 1675555499006,
     "user": {
      "displayName": "Максим Рассказов",
      "userId": "04237641250763927006"
     },
     "user_tz": -240
    },
    "id": "u5JVZ0BpYF4Y",
    "outputId": "a27a15d7-ed56-4a11-fc4e-0cb83379323d"
   },
   "outputs": [
    {
     "name": "stdout",
     "output_type": "stream",
     "text": [
      "Mounted at /content/gdrive\n"
     ]
    }
   ],
   "source": [
    "import os\n",
    "from google.colab import drive\n",
    "\n",
    "drive.mount('/content/gdrive', force_remount=True)\n",
    "os.chdir('/content/gdrive/MyDrive/colab/anadea_test')"
   ]
  },
  {
   "cell_type": "code",
   "execution_count": 2,
   "metadata": {
    "executionInfo": {
     "elapsed": 16110,
     "status": "ok",
     "timestamp": 1675555519444,
     "user": {
      "displayName": "Максим Рассказов",
      "userId": "04237641250763927006"
     },
     "user_tz": -240
    },
    "id": "ZWvp591JDsoc"
   },
   "outputs": [],
   "source": [
    "!pip install datasets transformers &> /dev/null"
   ]
  },
  {
   "cell_type": "code",
   "execution_count": 3,
   "metadata": {
    "colab": {
     "base_uri": "https://localhost:8080/"
    },
    "executionInfo": {
     "elapsed": 5463,
     "status": "ok",
     "timestamp": 1675555524885,
     "user": {
      "displayName": "Максим Рассказов",
      "userId": "04237641250763927006"
     },
     "user_tz": -240
    },
    "id": "vqzjOHrE0tDC",
    "outputId": "27575513-d1de-448a-de24-d8183bfdeada"
   },
   "outputs": [
    {
     "name": "stdout",
     "output_type": "stream",
     "text": [
      "  % Total    % Received % Xferd  Average Speed   Time    Time     Time  Current\n",
      "                                 Dload  Upload   Total   Spent    Left  Speed\n",
      "100 4268k  100 4268k    0     0  8271k      0 --:--:-- --:--:-- --:--:-- 8271k\n",
      "  % Total    % Received % Xferd  Average Speed   Time    Time     Time  Current\n",
      "                                 Dload  Upload   Total   Spent    Left  Speed\n",
      "100 40.1M  100 40.1M    0     0  13.7M      0  0:00:02  0:00:02 --:--:-- 13.7M\n",
      "  % Total    % Received % Xferd  Average Speed   Time    Time     Time  Current\n",
      "                                 Dload  Upload   Total   Spent    Left  Speed\n",
      "100 10547    0 10547    0     0   7268      0 --:--:--  0:00:01 --:--:--  7273\n"
     ]
    }
   ],
   "source": [
    "!curl https://rajpurkar.github.io/SQuAD-explorer/dataset/dev-v2.0.json -o dev-v2.0.json\n",
    "!curl https://rajpurkar.github.io/SQuAD-explorer/dataset/train-v2.0.json -o train-v2.0.json\n",
    "!curl https://worksheets.codalab.org/rest/bundles/0x6b567e1cf2e041ec80d7098f031c5c9e/contents/blob/ -o evaluate-v2.0.py"
   ]
  },
  {
   "cell_type": "code",
   "execution_count": 12,
   "metadata": {
    "colab": {
     "base_uri": "https://localhost:8080/"
    },
    "executionInfo": {
     "elapsed": 21,
     "status": "ok",
     "timestamp": 1675556206104,
     "user": {
      "displayName": "Максим Рассказов",
      "userId": "04237641250763927006"
     },
     "user_tz": -240
    },
    "id": "nwaoz6DZxzf1",
    "outputId": "7c7ab02c-2f55-4191-9408-5bd923aa793a"
   },
   "outputs": [
    {
     "name": "stdout",
     "output_type": "stream",
     "text": [
      "Overwriting make_predictions_pretrained.py\n"
     ]
    }
   ],
   "source": [
    "%%writefile make_predictions_pretrained.py\n",
    "import argparse\n",
    "import json\n",
    "import os\n",
    "from pathlib import Path\n",
    "from typing import Optional\n",
    "\n",
    "import torch\n",
    "import datasets\n",
    "import transformers.pipelines.base\n",
    "from datasets import load_dataset, load_from_disk\n",
    "from transformers import pipeline\n",
    "\n",
    "\n",
    "def get_predictions_with_pipeline(\n",
    "        pipe: transformers.pipelines.base.Pipeline,\n",
    "        dataset: datasets.arrow_dataset.Dataset,\n",
    "        batch_size: int = 8,\n",
    "        no_answer_threshold: Optional[float] = None\n",
    "):\n",
    "    enforce_threshold = no_answer_threshold is not None\n",
    "    ids = dataset['id']\n",
    "    dataset = dataset.remove_columns(\n",
    "        [col for col in dataset.column_names\n",
    "         if col not in ['context', 'question']])\n",
    "    outs = pipe(dataset, batch_size=batch_size)\n",
    "\n",
    "    predictions = {}\n",
    "    na_probs = {}\n",
    "    for id_, out in zip(ids, outs):\n",
    "        if enforce_threshold:\n",
    "            predictions[id_] = out['answer'] if 1 - out['score'] < no_answer_threshold else ''\n",
    "            na_probs[id_] = float(1 - out['score'] >= no_answer_threshold)\n",
    "        else:\n",
    "            predictions[id_] = out['answer']\n",
    "            na_probs[id_] = 1 - out['score']\n",
    "    return predictions, na_probs\n",
    "\n",
    "\n",
    "def get_predictions_pretrained(\n",
    "        model_name: str,\n",
    "        dataset: datasets.arrow_dataset.Dataset,\n",
    "        batch_size: int = 8,\n",
    "        device: Optional[torch.device] = None,\n",
    "        no_answer_threshold: Optional[float] = None\n",
    "):\n",
    "    if device is None:\n",
    "        device = torch.device('cuda:0') if torch.cuda.is_available() else torch.device('cpu')\n",
    "    qa_pipe = pipeline('question-answering',\n",
    "                       model=model_name,\n",
    "                       tokenizer=model_name,\n",
    "                       device=device)\n",
    "    return get_predictions_with_pipeline(\n",
    "        pipe=qa_pipe,\n",
    "        dataset=dataset,\n",
    "        batch_size=batch_size,\n",
    "        no_answer_threshold=no_answer_threshold,\n",
    "    )\n",
    "\n",
    "\n",
    "def main():\n",
    "    parser = argparse.ArgumentParser()\n",
    "    parser.add_argument('--model_name', type=str, required=True)\n",
    "    parser.add_argument('--data_path', type=str)\n",
    "    parser.add_argument('--no_answer_threshold', type=float)\n",
    "    parser.add_argument('--batch_size', type=int, default=8)\n",
    "    parser.add_argument('--pred_path', type=str, default='pred.json')\n",
    "    parser.add_argument('--na_prob_path', type=str, default='na_prob.json')\n",
    "\n",
    "    parameters = parser.parse_args()\n",
    "    if parameters.data_path is not None:\n",
    "        dataset = load_from_disk(parameters.data_path)\n",
    "    else:\n",
    "        dataset = load_dataset('squad_v2')['validation']\n",
    "\n",
    "    predictions, na_probs = get_predictions_pretrained(\n",
    "        model_name=parameters.model_name,\n",
    "        dataset=dataset,\n",
    "        batch_size=parameters.batch_size,\n",
    "        no_answer_threshold=parameters.no_answer_threshold,\n",
    "    )\n",
    "    os.makedirs(Path(parameters.pred_path).parent.resolve(), exist_ok=True)\n",
    "    with open(parameters.pred_path, 'w') as f:\n",
    "        json.dump(predictions, f)\n",
    "    os.makedirs(Path(parameters.pred_path).parent.resolve(), exist_ok=True)\n",
    "    with open(parameters.na_prob_path, 'w') as f:\n",
    "        json.dump(na_probs, f)\n",
    "\n",
    "\n",
    "if __name__ == '__main__':\n",
    "    main()\n"
   ]
  },
  {
   "cell_type": "code",
   "execution_count": 13,
   "metadata": {
    "colab": {
     "base_uri": "https://localhost:8080/"
    },
    "executionInfo": {
     "elapsed": 119157,
     "status": "ok",
     "timestamp": 1675556325246,
     "user": {
      "displayName": "Максим Рассказов",
      "userId": "04237641250763927006"
     },
     "user_tz": -240
    },
    "id": "H_PRJDhBxzXd",
    "outputId": "37b4be52-d347-407d-b4c4-7caa4ad036ad"
   },
   "outputs": [
    {
     "name": "stdout",
     "output_type": "stream",
     "text": [
      "WARNING:datasets.builder:Found cached dataset squad_v2 (/root/.cache/huggingface/datasets/squad_v2/squad_v2/2.0.0/09187c73c1b837c95d9a249cd97c2c3f1cebada06efe667b4427714b27639b1d)\n",
      "100% 2/2 [00:00<00:00, 347.20it/s]\n"
     ]
    }
   ],
   "source": [
    "!python make_predictions_pretrained.py \\\n",
    "--model_name deepset/tinyroberta-squad2 \\\n",
    "--pred_path pretrained/pred.json \\\n",
    "--na_prob_path pretrained/na_prob.json \\\n",
    "--batch_size 32"
   ]
  },
  {
   "cell_type": "code",
   "execution_count": 16,
   "metadata": {
    "executionInfo": {
     "elapsed": 2140,
     "status": "ok",
     "timestamp": 1675556416127,
     "user": {
      "displayName": "Максим Рассказов",
      "userId": "04237641250763927006"
     },
     "user_tz": -240
    },
    "id": "HmBW-J7J31yD"
   },
   "outputs": [],
   "source": [
    "!python evaluate-v2.0.py dev-v2.0.json pretrained/pred.json\\\n",
    "-o pretrained/metrics.json \\\n",
    "-n pretrained/na_prob.json \\\n",
    "-t 0.81 \\\n",
    "-p pretrained/out_images"
   ]
  },
  {
   "cell_type": "code",
   "execution_count": 17,
   "metadata": {
    "colab": {
     "base_uri": "https://localhost:8080/"
    },
    "executionInfo": {
     "elapsed": 18,
     "status": "ok",
     "timestamp": 1675556416129,
     "user": {
      "displayName": "Максим Рассказов",
      "userId": "04237641250763927006"
     },
     "user_tz": -240
    },
    "id": "W6WnmatmxzNW",
    "outputId": "5f4cf1c7-422f-4c90-9538-5cf6ef1d552e"
   },
   "outputs": [
    {
     "data": {
      "text/plain": [
       "{'exact': 78.75852775204245,\n",
       " 'f1': 81.3786550477157,\n",
       " 'total': 11873,\n",
       " 'HasAns_exact': 74.89878542510121,\n",
       " 'HasAns_f1': 80.146553876776,\n",
       " 'HasAns_total': 5928,\n",
       " 'NoAns_exact': 82.60723296888142,\n",
       " 'NoAns_f1': 82.60723296888142,\n",
       " 'NoAns_total': 5945,\n",
       " 'best_exact': 78.80064010780762,\n",
       " 'best_exact_thresh': 0.7986318022012711,\n",
       " 'best_f1': 81.46484977047996,\n",
       " 'best_f1_thresh': 0.8249981105327606,\n",
       " 'pr_exact_ap': 68.38289018410978,\n",
       " 'pr_f1_ap': 75.96575700913677,\n",
       " 'pr_oracle_ap': 85.97572482524812}"
      ]
     },
     "execution_count": 17,
     "metadata": {},
     "output_type": "execute_result"
    }
   ],
   "source": [
    "import json\n",
    "with open('pretrained/metrics.json') as f:\n",
    "   pretrained_metrics = json.load(f)\n",
    "pretrained_metrics"
   ]
  }
 ],
 "metadata": {
  "accelerator": "GPU",
  "colab": {
   "provenance": []
  },
  "gpuClass": "standard",
  "kernelspec": {
   "display_name": "Python 3 (ipykernel)",
   "language": "python",
   "name": "python3"
  },
  "language_info": {
   "codemirror_mode": {
    "name": "ipython",
    "version": 3
   },
   "file_extension": ".py",
   "mimetype": "text/x-python",
   "name": "python",
   "nbconvert_exporter": "python",
   "pygments_lexer": "ipython3",
   "version": "3.11.0"
  },
  "widgets": {
   "application/vnd.jupyter.widget-state+json": {
    "state": {},
    "version_major": 2,
    "version_minor": 0
   }
  }
 },
 "nbformat": 4,
 "nbformat_minor": 4
}
